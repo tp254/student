{
 "cells": [
  {
   "cell_type": "code",
   "execution_count": null,
   "id": "2b34f512",
   "metadata": {},
   "outputs": [],
   "source": [
    "---\n",
    "layout: post\n",
    "title: Coding Concept - Developing Procedures\n",
    "description: Understanding Developing Procedures in Python and JavaScript\n",
    "permalink: /csp/big-idea-three/developingprocedures/javascript/hw/p3/syntaxterrors\n",
    "author: Meryl C\n",
    "---"
   ]
  },
  {
   "cell_type": "markdown",
   "id": "32d46af6",
   "metadata": {},
   "source": [
    "<div align=\"center\" style=\"margin-bottom: 2em;\">\n",
    "  <a href=\"{{ site.baseurl }}/csp/big-idea-three/developingprocedures/lesson/p3/syntaxterrors\"\n",
    "     style=\"\n",
    "      display: inline-block;\n",
    "      background: linear-gradient(90deg, #2563eb 0%, #1e40af 100%);\n",
    "      color: white;\n",
    "      padding: 0.85em 2.2em;\n",
    "      border-radius: 0.6em;\n",
    "      font-weight: bold;\n",
    "      text-decoration: none;\n",
    "      font-size: 1.15em;\n",
    "      box-shadow: 0 4px 16px rgba(30,64,175,0.18), 0 1.5px 4px rgba(0,0,0,0.10);\n",
    "      transition: \n",
    "        background 0.2s,\n",
    "        transform 0.15s,\n",
    "        box-shadow 0.2s;\n",
    "    \"\n",
    "    onmouseover=\"this.style.transform='scale(1.045)'; this.style.boxShadow='0 8px 24px rgba(30,64,175,0.22), 0 2px 8px rgba(0,0,0,0.13)';\"\n",
    "    onmouseout=\"this.style.transform='scale(1)'; this.style.boxShadow='0 4px 16px rgba(30,64,175,0.18), 0 1.5px 4px rgba(0,0,0,0.10)';\"\n",
    "  >\n",
    "    Developing Procedures Lesson\n",
    "  </a>\n",
    "</div>"
   ]
  },
  {
   "cell_type": "code",
   "execution_count": 2,
   "id": "101fed29",
   "metadata": {
    "vscode": {
     "languageId": "javascript"
    }
   },
   "outputs": [
    {
     "data": {
      "application/javascript": "\n// Homework: Developing Procedures in JavaScript\n\n// 1. Write a procedure that takes a number and returns its cube.\nfunction cube(n) {\n  return n * n * n;\n}\n\n// 2. Write a procedure that takes an array of numbers and returns the sum.\nfunction listSum(numbers) {\n  let total = 0;\n  for (let num of numbers) {\n    total += num;\n  }\n  return total;\n}\n\n// 3. Write a procedure that checks if a word is a palindrome.\nfunction isPalindrome(word) {\n  const reversed = word.split('').reverse().join('');\n  return word === reversed;\n}\n\n// Test the functions\nconsole.log(cube(3)); // 27\n\nconst nums = [1, 2, 3];\nconsole.log(listSum(nums)); // 6\n\nconsole.log(isPalindrome(\"racecar\")); // true\nconsole.log(isPalindrome(\"apple\"));   // false\n",
      "text/plain": [
       "<IPython.core.display.Javascript object>"
      ]
     },
     "metadata": {},
     "output_type": "display_data"
    }
   ],
   "source": [
    "%%js\n",
    "\n",
    "// Homework: Developing Procedures in JavaScript\n",
    "\n",
    "// 1. Write a procedure that takes a number and returns its cube.\n",
    "function cube(n) {\n",
    "  return n * n * n;\n",
    "}\n",
    "\n",
    "// 2. Write a procedure that takes an array of numbers and returns the sum.\n",
    "function listSum(numbers) {\n",
    "  let total = 0;\n",
    "  for (let num of numbers) {\n",
    "    total += num;\n",
    "  }\n",
    "  return total;\n",
    "}\n",
    "\n",
    "// 3. Write a procedure that checks if a word is a palindrome.\n",
    "function isPalindrome(word) {\n",
    "  const reversed = word.split('').reverse().join('');\n",
    "  return word === reversed;\n",
    "}\n",
    "\n",
    "// Test the functions\n",
    "console.log(cube(3)); // 27\n",
    "\n",
    "const nums = [1, 2, 3];\n",
    "console.log(listSum(nums)); // 6\n",
    "\n",
    "console.log(isPalindrome(\"racecar\")); // true\n",
    "console.log(isPalindrome(\"apple\"));   // false\n"
   ]
  }
 ],
 "metadata": {
  "kernelspec": {
   "display_name": "venv",
   "language": "python",
   "name": "python3"
  },
  "language_info": {
   "codemirror_mode": {
    "name": "ipython",
    "version": 3
   },
   "file_extension": ".py",
   "mimetype": "text/x-python",
   "name": "python",
   "nbconvert_exporter": "python",
   "pygments_lexer": "ipython3",
   "version": "3.13.7"
  }
 },
 "nbformat": 4,
 "nbformat_minor": 5
}
