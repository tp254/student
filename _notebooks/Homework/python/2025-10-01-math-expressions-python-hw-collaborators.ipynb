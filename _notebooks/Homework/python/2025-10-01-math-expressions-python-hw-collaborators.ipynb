{
 "cells": [
  {
   "cell_type": "markdown",
   "id": "fb8466ea",
   "metadata": {},
   "source": [
    "---\n",
    "layout: post\n",
    "title: Math expressions\n",
    "description: This page will provide homework for the math expressions lesson.\n",
    "permalink: /csp/big-idea-3/math_expressions/p3/homework\n",
    "breadcrumb: True\n",
    "Author: The Collaboraters \n",
    "---"
   ]
  },
  {
   "cell_type": "markdown",
   "id": "1f551ab0",
   "metadata": {},
   "source": [
    "# 📝 3.3 Homework: Math Expressions & Algorithms in Python\n",
    "\n",
    "## Learning Objectives\n",
    "1. Write a Python program that follows a **step-by-step algorithm**.  \n",
    "2. Use **sequencing** correctly in Python.  \n",
    "3. Use **arithmetic operators** and **variables** to calculate results.  \n",
    "\n",
    "---\n",
    "\n",
    "## Part 1: Sequencing & Variables\n",
    "\n",
    "Write a Python program that performs the following steps **in order**:  \n",
    "\n",
    "1. Create a variable `grade1` and assign it a value of `90`.  \n",
    "2. Create a variable `grade2` and assign it a value of `75`.  \n",
    "3. Calculate the average of `grade1` and `grade2` and store it in a variable called `averageGrade`.  \n",
    "4. Display the value of `averageGrade`.  \n",
    "\n",
    "> **Example Output:**  \n",
    "> `The average grade is 82.5`  "
   ]
  },
  {
   "cell_type": "code",
   "execution_count": 4,
   "id": "85f74d07",
   "metadata": {},
   "outputs": [
    {
     "name": "stdout",
     "output_type": "stream",
     "text": [
      "The average grade is 82.5\n"
     ]
    }
   ],
   "source": [
    "grade1 = 90\n",
    "grade2 = 75\n",
    "averageGrade = (grade1 + grade2) / 2\n",
    "\n",
    "print(\"The average grade is\", averageGrade)"
   ]
  },
  {
   "cell_type": "markdown",
   "id": "3f621832",
   "metadata": {},
   "source": [
    "\n",
    "\n",
    "## Part 2: Arithmetic Expressions\n",
    "\n",
    "Calculate the following in Python using **variables and arithmetic operators**:  \n",
    "\n",
    "1. `num1 ← 10`  \n",
    "2. `num2 ← 5`  \n",
    "3. `num3 ← num1 + num2 * 2`  \n",
    "4. `num4 ← (num1 + num2) * 2`  \n",
    "5. `num5 ← num3 / 3 + num4`  \n",
    "6. Display the values of `num3`, `num4`, and `num5`.  \n",
    "\n",
    "> Hint: Use `+`, `-`, `*`, `/`, and parentheses to control order of operations.  \n"
   ]
  },
  {
   "cell_type": "code",
   "execution_count": 1,
   "id": "51dc5fd2",
   "metadata": {},
   "outputs": [
    {
     "name": "stdout",
     "output_type": "stream",
     "text": [
      "num3 = 20\n",
      "num4 = 30\n",
      "num5 = 36.666666666666664\n"
     ]
    }
   ],
   "source": [
    "num1 = 10\n",
    "num2 = 5\n",
    "num3 = num1 + num2 * 2\n",
    "num4 = (num1 + num2) * 2\n",
    "num5 = num3 / 3 + num4\n",
    "\n",
    "print(\"num3 =\", num3)\n",
    "print(\"num4 =\", num4)\n",
    "print(\"num5 =\", num5)"
   ]
  },
  {
   "cell_type": "markdown",
   "id": "eaf603f9",
   "metadata": {},
   "source": [
    "\n",
    "\n",
    "## Part 3: Step-by-Step Algorithm Practice\n",
    "\n",
    "Write Python code for this algorithm **without using loops or if statements**:  \n",
    "\n",
    "**Algorithm:**  \n",
    "\n",
    "1. Set `item` to `7`  \n",
    "2. Create three variables: `num1 = 3`, `num2 = 7`, `num3 = 9`  \n",
    "3. Check each variable **manually** to see if it equals `item` (just write it as a sequence of assignments and displays)  \n",
    "4. Display `\"Item found\"` if a variable matches `item`  \n",
    "5. At the end, display `\"Item not found\"` if none match  \n",
    "\n",
    "> Hint: Since you haven’t learned `if` statements, just **write a sequence that shows the comparisons step by step** with comments.  \n",
    "\n",
    "\n"
   ]
  },
  {
   "cell_type": "code",
   "execution_count": null,
   "id": "655902ff",
   "metadata": {},
   "outputs": [],
   "source": [
    "item = 7\n",
    "num1 = 3\n",
    "num2 = 7\n",
    "num3 = 9\n",
    "\n",
    "match1 = num1 == item\n",
    "match2 = num2 == item\n",
    "match3 = num3 == item\n",
    "\n",
    "print(\"num1 matches item:\", match1)\n",
    "print(\"num2 matches item:\", match2)\n",
    "print(\"num3 matches item:\", match3)\n",
    "\n",
    "print(\"Item found\")\n",
    "print(\"Item not found\")"
   ]
  },
  {
   "cell_type": "markdown",
   "id": "f75175f4",
   "metadata": {},
   "source": [
    "\n",
    "## Part 4: Mixed Expressions\n",
    "\n",
    "Write a Python program that:  \n",
    "\n",
    "1. Create three variables: `a = 8`, `b = 4`, `c = 10`  \n",
    "2. Calculate:  \n",
    "   - `result1 = a + b * c`  \n",
    "   - `result2 = (a + b) * c`  \n",
    "   - `result3 = a + (b / c)`  \n",
    "3. Display all three results.  \n",
    "\n",
    "> This will help you practice **order of operations** and arithmetic in Python."
   ]
  },
  {
   "cell_type": "code",
   "execution_count": 3,
   "id": "0909c3ea",
   "metadata": {},
   "outputs": [
    {
     "name": "stdout",
     "output_type": "stream",
     "text": [
      "result1 = 48\n",
      "result2 = 120\n",
      "result3 = 8.4\n"
     ]
    }
   ],
   "source": [
    "a = 8\n",
    "b = 4\n",
    "c = 10\n",
    "\n",
    "result1 = a + b * c\n",
    "result2 = (a + b) * c\n",
    "result3 = a + (b / c)\n",
    "\n",
    "print(\"result1 =\", result1)\n",
    "print(\"result2 =\", result2)\n",
    "print(\"result3 =\", result3)"
   ]
  }
 ],
 "metadata": {
  "kernelspec": {
   "display_name": "venv",
   "language": "python",
   "name": "python3"
  },
  "language_info": {
   "codemirror_mode": {
    "name": "ipython",
    "version": 3
   },
   "file_extension": ".py",
   "mimetype": "text/x-python",
   "name": "python",
   "nbconvert_exporter": "python",
   "pygments_lexer": "ipython3",
   "version": "3.13.7"
  }
 },
 "nbformat": 4,
 "nbformat_minor": 5
}
