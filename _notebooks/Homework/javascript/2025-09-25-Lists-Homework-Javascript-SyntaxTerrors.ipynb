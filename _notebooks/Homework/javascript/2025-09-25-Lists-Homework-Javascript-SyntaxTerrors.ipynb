{
 "cells": [
  {
   "cell_type": "code",
   "execution_count": null,
   "id": "cdcf93f8",
   "metadata": {
    "vscode": {
     "languageId": "yaml"
    }
   },
   "outputs": [],
   "source": [
    "---\n",
    "layout: post\n",
    "title: Coding Concept - Lists\n",
    "description: Understanding Lists in Python and JavaScript\n",
    "permalink: /csp/big-idea-three/lists/javascript/hw/p3/syntaxterrors\n",
    "author: Meryl C\n",
    "---"
   ]
  },
  {
   "cell_type": "markdown",
   "id": "7782d012",
   "metadata": {
    "vscode": {
     "languageId": "javascript"
    }
   },
   "source": [
    "<div align=\"center\" style=\"margin-bottom: 2em;\">\n",
    "  <a href=\"{{ site.baseurl }}/csp/big-idea-three/lists/lesson/p3/syntaxterrors\"\n",
    "     style=\"\n",
    "      display: inline-block;\n",
    "      background: linear-gradient(90deg, #2563eb 0%, #1e40af 100%);\n",
    "      color: white;\n",
    "      padding: 0.85em 2.2em;\n",
    "      border-radius: 0.6em;\n",
    "      font-weight: bold;\n",
    "      text-decoration: none;\n",
    "      font-size: 1.15em;\n",
    "      box-shadow: 0 4px 16px rgba(30,64,175,0.18), 0 1.5px 4px rgba(0,0,0,0.10);\n",
    "      transition: \n",
    "        background 0.2s,\n",
    "        transform 0.15s,\n",
    "        box-shadow 0.2s;\n",
    "    \"\n",
    "    onmouseover=\"this.style.transform='scale(1.045)'; this.style.boxShadow='0 8px 24px rgba(30,64,175,0.22), 0 2px 8px rgba(0,0,0,0.13)';\"\n",
    "    onmouseout=\"this.style.transform='scale(1)'; this.style.boxShadow='0 4px 16px rgba(30,64,175,0.18), 0 1.5px 4px rgba(0,0,0,0.10)';\"\n",
    "  >\n",
    "    Lists Lesson\n",
    "  </a>\n",
    "</div>"
   ]
  },
  {
   "cell_type": "code",
   "execution_count": null,
   "id": "099dbffe",
   "metadata": {
    "vscode": {
     "languageId": "javascript"
    }
   },
   "outputs": [],
   "source": [
    "// ===============================\n",
    "// Popcorn Hack 1: Initialize Snake\n",
    "// ===============================\n",
    "// TODO: Make an array called snake with:\n",
    "//  - 1 head (\"H\")\n",
    "//  - 3 body segments (\"B\")\n",
    "//  - 1 tail (\"T\")\n",
    "// Hint: arrays in JavaScript use [ ... ] with commas.\n",
    "\n",
    "let snake = [];  // <-- fill this in\n",
    "\n",
    "console.log(\"Starting snake:\", snake);\n",
    "\n",
    "\n",
    "// ===============================\n",
    "// Popcorn Hack 2: Growing the Snake\n",
    "// ===============================\n",
    "// TODO: The snake eats food 🥩\n",
    "//  - Add 2 tails (\"T\") to the END of the array\n",
    "//  - Use push() twice\n",
    "// Example: snake.push(\"T\")\n",
    "\n",
    "// Your code here\n",
    "\n",
    "\n",
    "console.log(\"Snake after eating:\", snake);\n",
    "\n",
    "\n",
    "// ===============================\n",
    "// Popcorn Hack 3: Snake Loses a Tail\n",
    "// ===============================\n",
    "// TODO: The snake moves forward, tail disappears\n",
    "//  - Remove the LAST 2 elements\n",
    "//  - Use pop() twice\n",
    "// Example: snake.pop()\n",
    "\n",
    "// Your code here\n",
    "\n",
    "\n",
    "console.log(\"Snake after losing tails:\", snake);\n",
    "\n",
    "\n",
    "// ===============================\n",
    "// Popcorn Hack 4: Combining It All\n",
    "// ===============================\n",
    "// TODO:\n",
    "//  Step 1: Add 2 new heads (\"H\") to the START of the array\n",
    "//          → use unshift()\n",
    "//  Step 2: Remove 1 head from the START of the array\n",
    "//          → use shift()\n",
    "//  Step 3: Print the new snake and its first head\n",
    "\n",
    "// Your code here\n",
    "\n",
    "\n",
    "console.log(\"Snake after moving:\", snake);\n",
    "console.log(\"New first head is:\", snake[0]);\n",
    "\n",
    "\n",
    "// ===============================\n",
    "// Check Your Understanding\n",
    "// ===============================\n",
    "// Start fresh with a new snake\n",
    "snake = [\"H\", \"B\", \"B\", \"T\"];\n",
    "\n",
    "// TODO: Run these in order\n",
    "//  1. Add a head at the START (unshift)\n",
    "//  2. Add a tail at the END (push)\n",
    "//  3. Remove the 3rd element (index 2) with splice()\n",
    "\n",
    "// Your code here\n",
    "\n",
    "\n",
    "console.log(\"Final snake:\", snake);\n",
    "console.log(\"First head:\", snake[0]);\n",
    "console.log(\"Last element:\", snake[snake.length - 1]);\n"
   ]
  }
 ],
 "metadata": {
  "language_info": {
   "name": "python"
  }
 },
 "nbformat": 4,
 "nbformat_minor": 5
}
