{
 "cells": [
  {
   "cell_type": "markdown",
   "id": "752599c8",
   "metadata": {},
   "source": [
    "---\n",
    "layout: post\n",
    "title: Boolean Expressions and Logic Homework\n",
    "description: Quick practice with Boolean Expressions and Logic\n",
    "permalink: /csp/python/booleanexpressionsjavascript/collaborators/homework\n",
    "authors: Virginia Z, Vivian Z\n",
    "---"
   ]
  },
  {
   "cell_type": "markdown",
   "id": "24ec0689",
   "metadata": {},
   "source": [
    "## 📘 AP CSP Unit 3.5 Boolean Expressions Homework (JavaScript)\n",
    "### Part A: Write Boolean Expressions\n",
    "Write Boolean expressions for the following situations. Use && (and), || (or), and ! (not).\n",
    "1. You can watch a movie if you finished your homework and your age is at least 13.\n",
    "2. You can get dessert if you ordered dinner or your parent says yes.\n",
    "3. You can go outside if it is not raining and the temperature is greater than 60.\n",
    "4. A student is eligible for a discount if they are a student and their age is less than 18."
   ]
  },
  {
   "cell_type": "code",
   "execution_count": null,
   "id": "d2255033",
   "metadata": {
    "vscode": {
     "languageId": "plaintext"
    }
   },
   "outputs": [],
   "source": [
    "Type the appropriate answers to the questions here:\n",
    "1. (homeworkFinished && age >= 13)\n",
    "2. (desertOrdered || parentsSaysYes)\n",
    "3. (!raining && temperature > 60)\n",
    "4. (isStudent && age < 18)\n"
   ]
  },
  {
   "cell_type": "markdown",
   "id": "d83cb905",
   "metadata": {},
   "source": [
    "### Part B: Predict the Output\n",
    "What will each of these expressions evaluate to in JavaScript? (true or false)\n",
    "```javascript\n",
    "1. (5 > 3) && (10 < 20)\n",
    "2. (7 === 7) || (4 > 10)\n",
    "3. !(false) && (3 <= 3)\n",
    "4. (true || false) && !(5 === \"5\")\n",
    "5. (12 % 2 === 0) && (15 % 2 === 1)\n",
    "```\n"
   ]
  },
  {
   "cell_type": "code",
   "execution_count": null,
   "id": "95b39e09",
   "metadata": {
    "vscode": {
     "languageId": "plaintext"
    }
   },
   "outputs": [],
   "source": [
    "Type the appropriate answers to the questions here:\n",
    "1. True\n",
    "2. True\n",
    "3. True\n",
    "4. True\n",
    "5. True"
   ]
  },
  {
   "cell_type": "markdown",
   "id": "c2ddca01",
   "metadata": {},
   "source": [
    "### Part C: Debugging\n",
    "Some students wrote Boolean expressions but made mistakes. Fix the errors.\n",
    "1. if (x > 10 and y < 5)\n",
    "2. if (not isOnline)\n",
    "3. if (age => 16 || hasLicense)"
   ]
  },
  {
   "cell_type": "code",
   "execution_count": null,
   "id": "d7bc6e65",
   "metadata": {
    "vscode": {
     "languageId": "plaintext"
    }
   },
   "outputs": [],
   "source": [
    "Type the appropriate answers to the questions here:\n",
    "1. if(x > 10 && y < 5)\n",
    "2. if (!isOnline)\n",
    "3. if (age >= 16 || hasLicense)\n"
   ]
  },
  {
   "cell_type": "markdown",
   "id": "88eafc04",
   "metadata": {},
   "source": [
    "## Extra Added Practice"
   ]
  },
  {
   "cell_type": "code",
   "execution_count": null,
   "id": "2c7b6900",
   "metadata": {
    "vscode": {
     "languageId": "plaintext"
    }
   },
   "outputs": [],
   "source": [
    "You can enter the theme park if you have a ticket and are at least 10 years old.\n",
    "\n",
    "Write a Boolean expression using hasTicket and age.\n",
    "\n",
    "You can play video games if it is not homework time or your parent says yes.\n",
    "\n",
    "Write a Boolean expression using homeworkTime and parentSaysYes.\n",
    "\n",
    "A student qualifies for a field trip if they are a student and their grade is greater than 70 and they have no missing assignments.\n",
    "\n",
    "Write a Boolean expression using isStudent, grade, and missingAssignments.\n",
    "\n",
    "A library book can be borrowed if it is not checked out and the user has less than 3 overdue books.\n",
    "\n",
    "Write a Boolean expression using checkedOut and overdueBooks.\n",
    "\n",
    "A person can ride a roller coaster if they are at least 48 inches tall or have a parent accompanying them.\n",
    "\n",
    "Write a Boolean expression using height and parentAccompanying."
   ]
  },
  {
   "cell_type": "code",
   "execution_count": null,
   "id": "5d6419af",
   "metadata": {
    "vscode": {
     "languageId": "javascript"
    }
   },
   "outputs": [],
   "source": [
    "hasTicket && age >= 10\n"
   ]
  },
  {
   "cell_type": "code",
   "execution_count": null,
   "id": "e5c75d56",
   "metadata": {
    "vscode": {
     "languageId": "javascript"
    }
   },
   "outputs": [],
   "source": [
    "(!homeworkTime || parentSaysYes)\n"
   ]
  },
  {
   "cell_type": "code",
   "execution_count": null,
   "id": "c1a6147d",
   "metadata": {
    "vscode": {
     "languageId": "javascript"
    }
   },
   "outputs": [],
   "source": [
    "isStudent && grade > 70 && missingAssignments === 0\n"
   ]
  },
  {
   "cell_type": "code",
   "execution_count": null,
   "id": "81f88dbb",
   "metadata": {
    "vscode": {
     "languageId": "javascript"
    }
   },
   "outputs": [],
   "source": [
    "!checkedOut && overdueBooks < 3\n"
   ]
  },
  {
   "cell_type": "code",
   "execution_count": null,
   "id": "9369676b",
   "metadata": {
    "vscode": {
     "languageId": "javascript"
    }
   },
   "outputs": [],
   "source": [
    "height >= 48 || parentAccompanying\n"
   ]
  }
 ],
 "metadata": {
  "language_info": {
   "name": "python"
  }
 },
 "nbformat": 4,
 "nbformat_minor": 5
}
